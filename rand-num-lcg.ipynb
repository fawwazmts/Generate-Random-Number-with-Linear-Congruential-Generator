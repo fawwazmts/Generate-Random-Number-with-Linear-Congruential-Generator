{
 "cells": [
  {
   "cell_type": "markdown",
   "metadata": {},
   "source": [
    "# **Generate Random Number with Linear Congruential Generator**"
   ]
  },
  {
   "cell_type": "markdown",
   "metadata": {},
   "source": [
    "## **Linear Congruential Generator (LCG)**"
   ]
  },
  {
   "cell_type": "code",
   "execution_count": 1,
   "metadata": {},
   "outputs": [],
   "source": [
    "def lcg(a, c, m, x0):\n",
    "    \"\"\"\n",
    "    Linear Congruential Generator (LCG) to produce a sequence of pseudo-random numbers.\n",
    "\n",
    "\n",
    "    Parameters:\n",
    "    a (int): Multiplier\n",
    "    c (int): Increment\n",
    "    m (int): Modulus\n",
    "    x0 (int): Seed (initial value)\n",
    "\n",
    "\n",
    "    Yields:\n",
    "    int: The next pseudo-random number in the sequence\n",
    "    \"\"\"\n",
    "    xn = x0  # Initialize the first number in the sequence with the seed value\n",
    "    while True:  # Infinite loop to continuously generate numbers\n",
    "        yield xn  # Yield the current number in the sequence\n",
    "        # Calculate the next number using the LCG formula\n",
    "        xn = (a * xn + c) % m  # Update xn for the next iteration"
   ]
  },
  {
   "cell_type": "markdown",
   "metadata": {},
   "source": [
    "## **LCG Implementation for Generating Random Numbers between 0 and 1**"
   ]
  },
  {
   "cell_type": "code",
   "execution_count": 2,
   "metadata": {},
   "outputs": [],
   "source": [
    "def my_rand(size, seed):\n",
    "    \"\"\"\n",
    "    Generates a list of pseudo-random numbers using the Linear Congruential Generator (LCG).\n",
    "\n",
    "\n",
    "    Parameters:\n",
    "    size (int): The number of pseudo-random numbers to generate\n",
    "    seed (int): The initial value for the random number generator\n",
    "\n",
    "\n",
    "    Returns:\n",
    "    List[float]: A list of pseudo-random numbers between 0 and 1\n",
    "    \"\"\"\n",
    "    multiplier = 7**5  # Multiplier for the LCG\n",
    "    increment = 0      # Increment for the LCG\n",
    "    modulus = 2**31 - 1  # Modulus for the LCG\n",
    "    # Create an instance of the LCG generator with specified parameters\n",
    "    lcg_generator = lcg(multiplier, increment, modulus, seed)\n",
    "\n",
    "    # Generate a list of pseudo-random numbers normalized between 0 and 1\n",
    "    random_numbers = [next(lcg_generator) / modulus for _ in range(size)]\n",
    "\n",
    "    return random_numbers"
   ]
  },
  {
   "cell_type": "code",
   "execution_count": 4,
   "metadata": {},
   "outputs": [
    {
     "name": "stdout",
     "output_type": "stream",
     "text": [
      "Generated Pseudo-Random Numbers: [4.6565663091170445e-05, 0.7826290995733016, 0.6472765284810572, 0.7766141811276852, 0.5545422130052663]\n"
     ]
    }
   ],
   "source": [
    "# Generate and print a list of 5 pseudo-random numbers with a seed of 99999\n",
    "random_numbers = my_rand(size=5, seed=99999)\n",
    "print(\"Generated Pseudo-Random Numbers:\", random_numbers)"
   ]
  }
 ],
 "metadata": {
  "kernelspec": {
   "display_name": "datascience-purwadhika",
   "language": "python",
   "name": "python3"
  },
  "language_info": {
   "codemirror_mode": {
    "name": "ipython",
    "version": 3
   },
   "file_extension": ".py",
   "mimetype": "text/x-python",
   "name": "python",
   "nbconvert_exporter": "python",
   "pygments_lexer": "ipython3",
   "version": "3.12.5"
  }
 },
 "nbformat": 4,
 "nbformat_minor": 2
}
